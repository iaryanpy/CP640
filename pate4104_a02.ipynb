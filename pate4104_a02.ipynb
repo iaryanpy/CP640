{
 "cells": [
  {
   "cell_type": "markdown",
   "id": "82f957e5",
   "metadata": {},
   "source": [
    "# 1. Concept Question"
   ]
  },
  {
   "cell_type": "markdown",
   "id": "f349d91b",
   "metadata": {},
   "source": [
    "# 1.1 Support Vector Machines: 3 points\n",
    "As shown in Figure 1, there are 4 training samples in a 2-dimensional space. x1 = (0, 0) and x2 = (2, 2) are being positive, while x3 = (h, 1) and x4 = (0, 3) are being negative. h is a parameter whose value falls in the range of [0, 3]."
   ]
  },
  {
   "cell_type": "markdown",
   "id": "41800370",
   "metadata": {},
   "source": [
    "1. How large can h ≥ 0 be so the training examples are still linearly separable?"
   ]
  },
  {
   "cell_type": "markdown",
   "id": "6758a39d",
   "metadata": {},
   "source": [
    "The training examples will be linearly separable as long as the value of h is less than or equal to 2. This is because the line that separates the positive and negative samples can be drawn between the points (0, 0) and (2, 2) for h values up to 2, ensuring linear separability"
   ]
  },
  {
   "cell_type": "markdown",
   "id": "a7d161b2",
   "metadata": {},
   "source": [
    "2. Will the direction of the maximum margin decision boundary change as a function of h when the samples are separable? Explain your answer with one sentence."
   ]
  },
  {
   "cell_type": "markdown",
   "id": "2f4df449",
   "metadata": {},
   "source": [
    "Yes, the direction of the maximum margin decision boundary will change as a function of h when the samples are separable. As h increases, the position of the negative sample x3 changes, affecting the orientation of the decision boundary."
   ]
  },
  {
   "cell_type": "markdown",
   "id": "1f1cc713",
   "metadata": {},
   "source": [
    "3. What will be the margin obtained by the maximum margin boundary as a function of h? Note that the margin as a function of h is actually a linear function.\n"
   ]
  },
  {
   "cell_type": "markdown",
   "id": "54099486",
   "metadata": {},
   "source": [
    "The margin obtained by the maximum margin boundary as a function of h will be equal to the distance from the decision surface to the closest data point. This margin will be a linear function of h, and it will increase as h increases."
   ]
  },
  {
   "cell_type": "markdown",
   "id": "4b150148",
   "metadata": {},
   "source": [
    "# 1.2 Neural Nets: 2 points\n",
    "Consider a neural net for a binary classification which has one hidden layer as shown in Figure 2. We use a linear activation function h(z) = cz at hidden units and a sigmoid activation function g(z) = 1/1+e−z at the output unit to learn the function for P(y = 1|x,w), where x = (x1, x2) and w = (w1,w2, . . . ,w9)."
   ]
  },
  {
   "cell_type": "markdown",
   "id": "461b7cae",
   "metadata": {},
   "source": [
    "1. What is the output P(y = 1|x,w) from the above neural net? Express it in terms of xi, c and weights wi."
   ]
  },
  {
   "cell_type": "markdown",
   "id": "e6bb570e",
   "metadata": {},
   "source": [
    "To create a probability, we will pass z through the sigmoid function.\n",
    "The sigmoid function is additionally called the logistic function and provides logistic regression its name.\n",
    "The sigmoid function should take a true value and maps it to the range [0,1]. It is nearly linear around 0 but outlier values get changed toward 0 or 1.\n",
    "The bias term, also called the intercept, is another real  that’s added to the weighted inputs.\n",
    "P(y = 1|x) is the probability that the function has a positive sentiment. \n",
    "\n",
    "Expression: g(w7 + cw8w1 + cw8w3x4 + cw8w5x2 + cw9w2 + cw9w4x4 + cw9w6x2)\n"
   ]
  },
  {
   "cell_type": "markdown",
   "id": "128ef59e",
   "metadata": {},
   "source": [
    "2. Is it true that any multi-layered neural net with linear activation functions at hidden layers can be represented as a neural net without any hidden layer? Briefly explain your answer."
   ]
  },
  {
   "cell_type": "markdown",
   "id": "f1d103cd",
   "metadata": {},
   "source": [
    "Yes. If linear activation functions are used for all the hidden layers, the output from hidden layers will be written as a linear combination of input features.\n",
    "Since this intermediate output serves as input for the final output layer, we can always find an equivalent neural net that does not have any hidden layer."
   ]
  },
  {
   "cell_type": "markdown",
   "id": "dcce3c92",
   "metadata": {},
   "source": [
    "# 1.3 Bayesian Rules and Bayesian Networks: 3 points"
   ]
  },
  {
   "cell_type": "markdown",
   "id": "a94971ca",
   "metadata": {},
   "source": [
    "1. Consider the Bayesian network shown in Figure 3. All the variables are boolean. Write the expression for the joint likelihood of the network in its factored form (1 points)."
   ]
  },
  {
   "cell_type": "markdown",
   "id": "a8c77179",
   "metadata": {},
   "source": [
    "P(a,b,c,d,e,f,g) = P(a) * P(g) * P(b∣a) * P(c∣b) * P(f∣g) * P(d∣c,f) * P(e∣d)"
   ]
  },
  {
   "cell_type": "markdown",
   "id": "4d317c2f",
   "metadata": {},
   "source": [
    "2. Suppose you are given the following set of data shown in Figure 4 with three Boolean input variables a, b, and c, and a single Boolean output variable K. Assume we are using a Naive Bayesian classifier to predict the value of K from the values of the other variables. What is P(K = 1|a = 1, b = 1, c = 0), and P(K = 0|a = 1, b = 1)? (2 points)"
   ]
  },
  {
   "cell_type": "markdown",
   "id": "c05a4058",
   "metadata": {},
   "source": [
    " P(K = 1|a = 1, b = 1, c = 0) = 0.44\n",
    " P(K = 0|a = 1, b = 1) = 0.67"
   ]
  },
  {
   "cell_type": "markdown",
   "id": "f70816bb",
   "metadata": {},
   "source": [
    "# 2.  Product Classification\n",
    "In this exercise, we’ll delve into a dataset from the Otto Classification Challenge, a competition hosted by Kaggle in 2015 \n",
    "1. The Otto Group stands as a global e-commerce giant, boasting subsidiaries across over 20 countries. This includes renowned brands like Crate & Barrel (USA), Otto.de (Germany), and 3 Suisses (France). Given their expansive daily sales volume worldwide, a systematic product performance analysis becomes vital. However, a challenge arises as their expansive global setup often leads to identical products being categorized differently. Thus, the depth and quality of product analysis largely hinge on the precision of product grouping. Efficient classification paves the way for deeper insights into their product assortment.\n",
    "\n",
    "https://www.kaggle.com/c/otto-group-product-classification-challenge\n",
    "\n",
    "\n",
    "The provided dataset comprises 93 features spanning over 200,000 products. The crux of this exercise is to construct various predictive models capable of discerning primary product categories. Utilizing the sklearn library, you’ll implement and juxtapose the efficacy of diverse algorithms discussed in our sessions. The dataset, named “otto.csv”, is accessible for download via MyLS."
   ]
  },
  {
   "cell_type": "markdown",
   "id": "1b655873",
   "metadata": {},
   "source": [
    "# 2.1 Data Loading and Preprocessing: 1 points\n",
    "1. Load the data;\n",
    "2. The target variable in this dataset is already in a categorical format suitable for multi-class classification. If it were in a string format and needed numerical encoding, you could use label encoding;\n",
    "3. Extract features and target;\n",
    "4. Standardize the feature values;\n",
    "5. Randomly split the data into 70% training and 30% testing."
   ]
  },
  {
   "cell_type": "code",
   "execution_count": 5,
   "id": "deb31f78",
   "metadata": {},
   "outputs": [],
   "source": [
    "import pandas as pd\n",
    "from sklearn.model_selection import train_test_split\n",
    "from sklearn.preprocessing import StandardScaler, LabelEncoder\n",
    "\n",
    "# Load the data\n",
    "data = pd.read_csv(\"otto.csv\")\n",
    "\n",
    "# Extract features and target\n",
    "X = data.drop(['id', 'target'], axis=1) \n",
    "y = data['target']\n",
    "\n",
    "\n",
    "# Standardize the feature values\n",
    "scaler = StandardScaler()\n",
    "X_scaled = scaler.fit_transform(X)\n",
    "\n",
    "# Randomly split the data into 70% training and 30% testing\n",
    "X_train, X_test, y_train, y_test = train_test_split(X_scaled, y, test_size=0.3, random_state=42)\n"
   ]
  },
  {
   "cell_type": "markdown",
   "id": "0f687d2f",
   "metadata": {},
   "source": [
    "# 2.2 Classifier Construction and Evaluation: 4 points\n",
    "In this question, you will be developing the following different predictive models with sklearn.\n",
    "1. Logistic Regression;\n",
    "2. Neural Network (Multi Layer Perceptron);\n",
    "3. Naive Bayes;\n",
    "4. Linear SVM"
   ]
  },
  {
   "cell_type": "markdown",
   "id": "b603342a",
   "metadata": {},
   "source": [
    "1. Logistic Regression"
   ]
  },
  {
   "cell_type": "code",
   "execution_count": 6,
   "id": "63d6836f",
   "metadata": {},
   "outputs": [
    {
     "name": "stdout",
     "output_type": "stream",
     "text": [
      "Logistic Regression F1 Score: 0.7467917580055179\n"
     ]
    }
   ],
   "source": [
    "from sklearn.linear_model import LogisticRegression\n",
    "from sklearn.metrics import f1_score\n",
    "\n",
    "# Create and train the Logistic Regression model with increased max_iter\n",
    "logistic_model = LogisticRegression(max_iter=1000)  \n",
    "logistic_model.fit(X_train, y_train)\n",
    "\n",
    "# Predictions\n",
    "y_pred_logistic = logistic_model.predict(X_test)\n",
    "\n",
    "# Evaluate F1 score\n",
    "f1_logistic = f1_score(y_test, y_pred_logistic, average='weighted')\n",
    "print(\"Logistic Regression F1 Score:\", f1_logistic)"
   ]
  },
  {
   "cell_type": "markdown",
   "id": "85e48685",
   "metadata": {},
   "source": [
    "2. Neural Network (Multi Layer Perceptron)"
   ]
  },
  {
   "cell_type": "code",
   "execution_count": 7,
   "id": "1001fc7f",
   "metadata": {},
   "outputs": [
    {
     "name": "stdout",
     "output_type": "stream",
     "text": [
      "Neural Network F1 Score: 0.7746074152345034\n"
     ]
    }
   ],
   "source": [
    "from sklearn.neural_network import MLPClassifier\n",
    "\n",
    "# Create and train the Neural Network model with increased max_iter\n",
    "mlp_model = MLPClassifier(max_iter=1000)  \n",
    "mlp_model.fit(X_train, y_train)\n",
    "\n",
    "# Predictions\n",
    "y_pred_mlp = mlp_model.predict(X_test)\n",
    "\n",
    "# Evaluate F1 score\n",
    "f1_mlp = f1_score(y_test, y_pred_mlp, average='weighted')\n",
    "print(\"Neural Network F1 Score:\", f1_mlp)\n"
   ]
  },
  {
   "cell_type": "markdown",
   "id": "5cfc0164",
   "metadata": {},
   "source": [
    "3. Naive Bayes"
   ]
  },
  {
   "cell_type": "code",
   "execution_count": 8,
   "id": "2157d480",
   "metadata": {},
   "outputs": [
    {
     "name": "stdout",
     "output_type": "stream",
     "text": [
      "Naive Bayes F1 Score: 0.6229277915313866\n"
     ]
    }
   ],
   "source": [
    "from sklearn.naive_bayes import GaussianNB\n",
    "\n",
    "# Create and train the Naive Bayes model\n",
    "nb_model = GaussianNB()\n",
    "nb_model.fit(X_train, y_train)\n",
    "\n",
    "# Predictions\n",
    "y_pred_nb = nb_model.predict(X_test)\n",
    "\n",
    "# Evaluate F1 score\n",
    "f1_nb = f1_score(y_test, y_pred_nb, average='weighted')\n",
    "print(\"Naive Bayes F1 Score:\", f1_nb)\n"
   ]
  },
  {
   "cell_type": "markdown",
   "id": "b4926463",
   "metadata": {},
   "source": [
    "4. Linear SVM"
   ]
  },
  {
   "cell_type": "code",
   "execution_count": 9,
   "id": "0c2f50ac",
   "metadata": {},
   "outputs": [
    {
     "name": "stdout",
     "output_type": "stream",
     "text": [
      "Linear SVM F1 Score: 0.7441383282923569\n"
     ]
    }
   ],
   "source": [
    "from sklearn.svm import SVC\n",
    "\n",
    "# Create and train the Linear SVM model\n",
    "svm_model = SVC(kernel='linear')\n",
    "svm_model.fit(X_train, y_train)\n",
    "\n",
    "# Predictions\n",
    "y_pred_svm = svm_model.predict(X_test)\n",
    "\n",
    "# Evaluate F1 score\n",
    "f1_svm = f1_score(y_test, y_pred_svm, average='weighted')\n",
    "print(\"Linear SVM F1 Score:\", f1_svm)\n"
   ]
  },
  {
   "cell_type": "markdown",
   "id": "191e0519",
   "metadata": {},
   "source": [
    "# 2.3 Performance Comparison: 1 point\n",
    "To evaluate the performance of different methods, please compute the F1 measure of each algorithm and conclude which method works best in your experiment."
   ]
  },
  {
   "cell_type": "code",
   "execution_count": 10,
   "id": "fca4b356",
   "metadata": {},
   "outputs": [
    {
     "name": "stdout",
     "output_type": "stream",
     "text": [
      "Logistic Regression F1 Score: 0.7467917580055179\n",
      "Neural Network F1 Score: 0.7746074152345034\n",
      "Naive Bayes F1 Score: 0.6229277915313866\n",
      "Linear SVM F1 Score: 0.7441383282923569\n",
      "Neural Network (Multi-Layer Perceptron) is the best performing method.\n"
     ]
    }
   ],
   "source": [
    "# F1 Scores\n",
    "print(\"Logistic Regression F1 Score:\", f1_logistic)\n",
    "print(\"Neural Network F1 Score:\", f1_mlp)\n",
    "print(\"Naive Bayes F1 Score:\", f1_nb)\n",
    "print(\"Linear SVM F1 Score:\", f1_svm)\n",
    "\n",
    "# Conclusion\n",
    "best_method = max(f1_logistic, f1_mlp, f1_nb, f1_svm)\n",
    "\n",
    "if best_method == f1_logistic:\n",
    "    print(\"Logistic Regression is the best performing method.\")\n",
    "elif best_method == f1_mlp:\n",
    "    print(\"Neural Network (Multi-Layer Perceptron) is the best performing method.\")\n",
    "elif best_method == f1_nb:\n",
    "    print(\"Naive Bayes is the best performing method.\")\n",
    "else:\n",
    "    print(\"Linear SVM is the best performing method.\")\n"
   ]
  },
  {
   "cell_type": "markdown",
   "id": "c96bf608",
   "metadata": {},
   "source": [
    "# 3. COVID Diagnosis \n",
    "The 2019 coronavirus outbreak (COVID-19) has brought forward several distinguishing characteristics. Although its diagnosis is validated through polymerase chain reaction (PCR), patients inflicted with pneumonia due to the virus might exhibit certain patterns on chest X-rays and CT scans that aren’t immediately obvious to the naked eye. In the early phases of 2020, researchers shed light on the clinical and paraclinical aspects of COVID-19, noting that many patients showed irregularities in chest CT scans, often affecting both lungs. In the realm of computer vision, Convolutional Neural Networks (CNNs) have marked a revolutionary stride. Surpassing traditional methods, they’ve set new performance benchmarks. These networks have consistently demonstrated their efficacy across varied real-world scenarios, including image categorization. Your mission here is to harness these X-ray visuals to craft a CNN using Keras, aiming to diagnose and interpret the infection. Such a tool could empower doctors to make more informed decisions while awaiting a radiologist’s review, offering them a virtual second opinion to corroborate their evaluation of a patient.\n",
    "\n",
    "The provided dataset in MyLS encompasses 188 chest X-ray images, capturing both COVID-19 affected patients and healthy individuals. This dataset is bifurcated into training and testing subsets. Each subset is further divided into two categories: “NORMAL” and “PNEUMONIA”, intended for model development and assessment, respectively. To bring this predictor to life, the outlined steps in this assignment need to be followed.\n",
    "\n",
    "1. Image pre-processing (2 points). Image pre-processing stands as a foundational and pivotal step when working with image data. In this phase, it’s essential to resize all images to our target dimensions (64x64) and normalize them by dividing by 255. Based on the computational capacity available, images can be represented using all three RGB channels or just one channel, signifying grayscale. Optionally, further data augmentation can be employed to enhance the dataset’s richness. Relevant functionalities can be found in the Keras’ ImageDataGenerator module 2. • ImageDataGenerator • flow from directory A sample setting of converting the image is shown below. Explore your own for best result. from tensorflow.keras.preprocessing.image import ImageDataGenerator datagen=ImageDataGenerator( zoom_range=0.2, # Zooming rate of the image horizontal_flip=True, # Make a horizontal copy rescale=1.0/255.0, # Normalize the new images width_shift_range=0.10, # Percentage of width shifting height_shift_range=0.10, # Percentage of height shifting)\n",
    "\n",
    "https://www.tensorflow.org/api_docs/python/tf/keras/preprocessing/image/ImageDataGenerator https://machinelearningmastery.com/how-to-reduce-overfitting-with-dropout-regularization-in-keras/ https://machinelearningmastery.com/adam-optimization-algorithm-for-deep-learning/\n",
    "\n",
    "\n"
   ]
  },
  {
   "cell_type": "code",
   "execution_count": 1,
   "id": "5a28e549",
   "metadata": {},
   "outputs": [
    {
     "name": "stdout",
     "output_type": "stream",
     "text": [
      "Found 148 images belonging to 2 classes.\n",
      "Found 40 images belonging to 2 classes.\n"
     ]
    }
   ],
   "source": [
    "from tensorflow.keras.preprocessing.image import ImageDataGenerator\n",
    "\n",
    "# Set up ImageDataGenerator for data augmentation and normalization\n",
    "datagen = ImageDataGenerator(\n",
    "    zoom_range=0.2,\n",
    "    horizontal_flip=True,\n",
    "    rescale=1.0/255.0,\n",
    "    width_shift_range=0.10,\n",
    "    height_shift_range=0.10\n",
    ")\n",
    "\n",
    "# Set the target dimensions\n",
    "target_dimensions = (64, 64)\n",
    "\n",
    "# Load and preprocess training data\n",
    "train_generator = datagen.flow_from_directory(\n",
    "    '/Users/aryanpatel/Desktop/Fall 2023/CP-640-B - Machine Learning/Assignment 2/xray_dataset_covid19/train',\n",
    "    target_size=target_dimensions,\n",
    "    batch_size=32,\n",
    "    class_mode='binary'\n",
    ")\n",
    "\n",
    "# Load and preprocess testing data\n",
    "test_generator = datagen.flow_from_directory(\n",
    "    '/Users/aryanpatel/Desktop/Fall 2023/CP-640-B - Machine Learning/Assignment 2/xray_dataset_covid19/test',\n",
    "    target_size=target_dimensions,\n",
    "    batch_size=32,\n",
    "    class_mode='binary'\n",
    ")\n"
   ]
  },
  {
   "cell_type": "markdown",
   "id": "ceda5f06",
   "metadata": {},
   "source": [
    "2. Model building (3 points).\n",
    "You have the flexibility to craft our convolution layers. Consider the architecture depicted in Figure 3 as an illustration. Here, the design commences with a pair of convolutional layers, succeeded by two maxpooling layers. Post flattening the output, it integrates a fully connected dense layer, culminating with an output layer. Each layer employs the Relu activation function, with the exception of the final output layer which utilizes the sigmoid function. To further improve the predictor’s performance, you can also optionally add a tensorflow.keras.callbacks module. Callback is a strategy to reduce over fitting and save time. For example, you can use EarlyStopping if the accuracy does not improve for certain iterations. This can be implemented as below. from tensorflow.keras.callbacks import EarlyStopping earlystop=EarlyStopping(patience=6) You can also optionally add dropout layers to further reduce overfitting 3 and introduce Adam to optimize the SGD process in learning parameters4."
   ]
  },
  {
   "cell_type": "code",
   "execution_count": 2,
   "id": "d16dd187",
   "metadata": {},
   "outputs": [],
   "source": [
    "from tensorflow.keras.models import Sequential\n",
    "from tensorflow.keras.layers import Conv2D, MaxPooling2D, Flatten, Dense, Dropout\n",
    "\n",
    "# Create a Sequential model\n",
    "model = Sequential()\n",
    "\n",
    "# Add convolutional layers\n",
    "model.add(Conv2D(32, (3, 3), activation='relu', input_shape=(64, 64, 3)))\n",
    "model.add(Conv2D(64, (3, 3), activation='relu'))\n",
    "\n",
    "# Add max pooling layers\n",
    "model.add(MaxPooling2D((2, 2)))\n",
    "model.add(MaxPooling2D((2, 2)))\n",
    "\n",
    "# Flatten the output\n",
    "model.add(Flatten())\n",
    "\n",
    "# Add a fully connected dense layer\n",
    "model.add(Dense(128, activation='relu'))\n",
    "\n",
    "# Optionally, add dropout layer to reduce overfitting\n",
    "model.add(Dropout(0.5))\n",
    "\n",
    "# Add the output layer\n",
    "model.add(Dense(1, activation='sigmoid'))  # Binary classification\n",
    "\n",
    "# Compile the model\n",
    "model.compile(optimizer='adam', loss='binary_crossentropy', metrics=['accuracy'])"
   ]
  },
  {
   "cell_type": "markdown",
   "id": "0b8b5991",
   "metadata": {},
   "source": [
    "3. Model evaluation (3 points). \n",
    "To gauge the proficiency of our predictor, you are tasked with employing evaluation metrics such as Accuracy and Losses (Binary Cross Entropy), tracking their evolution over 20 epochs. Further, to gain deeper insights into the learning trajectory, it’s pivotal to display outcomes for both training and testing datasets. Submissions should incorporate visualizations akin to those in Figure 5, illustrating Accuracy and Losses. Concluding, you’ll furnish an analysis rooted in your experimental findings, delving into discussions around potential overfitting."
   ]
  },
  {
   "cell_type": "code",
   "execution_count": 3,
   "id": "06cad9b3",
   "metadata": {},
   "outputs": [
    {
     "name": "stdout",
     "output_type": "stream",
     "text": [
      "Epoch 1/20\n",
      "5/5 [==============================] - 3s 585ms/step - loss: 0.7642 - accuracy: 0.5608 - val_loss: 0.6414 - val_accuracy: 0.5000\n",
      "Epoch 2/20\n",
      "5/5 [==============================] - 2s 529ms/step - loss: 0.6379 - accuracy: 0.6284 - val_loss: 0.5963 - val_accuracy: 0.6750\n",
      "Epoch 3/20\n",
      "5/5 [==============================] - 2s 515ms/step - loss: 0.6335 - accuracy: 0.6486 - val_loss: 0.4898 - val_accuracy: 0.9250\n",
      "Epoch 4/20\n",
      "5/5 [==============================] - 2s 492ms/step - loss: 0.5947 - accuracy: 0.6892 - val_loss: 0.4300 - val_accuracy: 0.8250\n",
      "Epoch 5/20\n",
      "5/5 [==============================] - 2s 529ms/step - loss: 0.5697 - accuracy: 0.6959 - val_loss: 0.3371 - val_accuracy: 0.9250\n",
      "Epoch 6/20\n",
      "5/5 [==============================] - 2s 493ms/step - loss: 0.4594 - accuracy: 0.8176 - val_loss: 0.2241 - val_accuracy: 0.9500\n",
      "Epoch 7/20\n",
      "5/5 [==============================] - 2s 521ms/step - loss: 0.3888 - accuracy: 0.8446 - val_loss: 0.2020 - val_accuracy: 0.9000\n",
      "Epoch 8/20\n",
      "5/5 [==============================] - 2s 473ms/step - loss: 0.3889 - accuracy: 0.8446 - val_loss: 0.1967 - val_accuracy: 0.9000\n",
      "Epoch 9/20\n",
      "5/5 [==============================] - 2s 472ms/step - loss: 0.3226 - accuracy: 0.8514 - val_loss: 0.1280 - val_accuracy: 0.9750\n",
      "Epoch 10/20\n",
      "5/5 [==============================] - 2s 517ms/step - loss: 0.3641 - accuracy: 0.8514 - val_loss: 0.1505 - val_accuracy: 0.9250\n",
      "Epoch 11/20\n",
      "5/5 [==============================] - 2s 528ms/step - loss: 0.2491 - accuracy: 0.9122 - val_loss: 0.1802 - val_accuracy: 0.9250\n",
      "Epoch 12/20\n",
      "5/5 [==============================] - 2s 495ms/step - loss: 0.4329 - accuracy: 0.8108 - val_loss: 0.1614 - val_accuracy: 0.9250\n",
      "Epoch 13/20\n",
      "5/5 [==============================] - 2s 503ms/step - loss: 0.3319 - accuracy: 0.8514 - val_loss: 0.1319 - val_accuracy: 0.9500\n",
      "Epoch 14/20\n",
      "5/5 [==============================] - 2s 512ms/step - loss: 0.2706 - accuracy: 0.9054 - val_loss: 0.1521 - val_accuracy: 0.9250\n",
      "Epoch 15/20\n",
      "5/5 [==============================] - 2s 515ms/step - loss: 0.2563 - accuracy: 0.8986 - val_loss: 0.0861 - val_accuracy: 1.0000\n",
      "Epoch 16/20\n",
      "5/5 [==============================] - 2s 471ms/step - loss: 0.2985 - accuracy: 0.8784 - val_loss: 0.1224 - val_accuracy: 0.9750\n",
      "Epoch 17/20\n",
      "5/5 [==============================] - 2s 525ms/step - loss: 0.3362 - accuracy: 0.8378 - val_loss: 0.1329 - val_accuracy: 0.9250\n",
      "Epoch 18/20\n",
      "5/5 [==============================] - 2s 504ms/step - loss: 0.3287 - accuracy: 0.8581 - val_loss: 0.1526 - val_accuracy: 0.9250\n",
      "Epoch 19/20\n",
      "5/5 [==============================] - 2s 498ms/step - loss: 0.2823 - accuracy: 0.9054 - val_loss: 0.1345 - val_accuracy: 0.9750\n",
      "Epoch 20/20\n",
      "5/5 [==============================] - 2s 520ms/step - loss: 0.2829 - accuracy: 0.8784 - val_loss: 0.1110 - val_accuracy: 1.0000\n"
     ]
    },
    {
     "data": {
      "image/png": "[encoded data removed]",
      "text/plain": [
       "<Figure size 640x480 with 1 Axes>"
      ]
     },
     "metadata": {},
     "output_type": "display_data"
    },
    {
     "data": {
      "image/png": "[encoded data removed]",
      "text/plain": [
       "<Figure size 640x480 with 1 Axes>"
      ]
     },
     "metadata": {},
     "output_type": "display_data"
    }
   ],
   "source": [
    "from tensorflow.keras.callbacks import EarlyStopping\n",
    "import matplotlib.pyplot as plt\n",
    "\n",
    "# Set up EarlyStopping callback\n",
    "earlystop = EarlyStopping(patience=6)\n",
    "\n",
    "# Train the model\n",
    "history = model.fit(train_generator, epochs=20, validation_data=test_generator, callbacks=[earlystop])\n",
    "\n",
    "# Plot training and validation accuracy\n",
    "plt.plot(history.history['accuracy'], label='Training Accuracy')\n",
    "plt.plot(history.history['val_accuracy'], label='Validation Accuracy')\n",
    "plt.xlabel('Epoch')\n",
    "plt.ylabel('Accuracy')\n",
    "plt.legend()\n",
    "plt.show()\n",
    "\n",
    "# Plot training and validation loss\n",
    "plt.plot(history.history['loss'], label='Training Loss')\n",
    "plt.plot(history.history['val_loss'], label='Validation Loss')\n",
    "plt.xlabel('Epoch')\n",
    "plt.ylabel('Loss')\n",
    "plt.legend()\n",
    "plt.show()"
   ]
  }
 ],
 "metadata": {
  "kernelspec": {
   "display_name": "Python 3 (ipykernel)",
   "language": "python",
   "name": "python3"
  },
  "language_info": {
   "codemirror_mode": {
    "name": "ipython",
    "version": 3
   },
   "file_extension": ".py",
   "mimetype": "text/x-python",
   "name": "python",
   "nbconvert_exporter": "python",
   "pygments_lexer": "ipython3",
   "version": "3.11.5"
  }
 },
 "nbformat": 4,
 "nbformat_minor": 5
}
